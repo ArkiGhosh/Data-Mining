{
 "cells": [
  {
   "cell_type": "code",
   "execution_count": 1,
   "id": "4edbe17c",
   "metadata": {},
   "outputs": [],
   "source": [
    "import pandas as pd\n",
    "import numpy as np\n",
    "from sklearn.model_selection import train_test_split"
   ]
  },
  {
   "cell_type": "code",
   "execution_count": 2,
   "id": "70d54da2",
   "metadata": {},
   "outputs": [
    {
     "data": {
      "text/plain": [
       "'1. Design Naive Bayes Classifier from scratch for the given Dataset and find out the accuracy of your model.'"
      ]
     },
     "execution_count": 2,
     "metadata": {},
     "output_type": "execute_result"
    }
   ],
   "source": [
    "\"\"\"1. Design Naive Bayes Classifier from scratch for the given Dataset and find out the accuracy of your model.\"\"\""
   ]
  },
  {
   "cell_type": "code",
   "execution_count": 3,
   "id": "d3d8c5de",
   "metadata": {},
   "outputs": [
    {
     "data": {
      "text/html": [
       "<div>\n",
       "<style scoped>\n",
       "    .dataframe tbody tr th:only-of-type {\n",
       "        vertical-align: middle;\n",
       "    }\n",
       "\n",
       "    .dataframe tbody tr th {\n",
       "        vertical-align: top;\n",
       "    }\n",
       "\n",
       "    .dataframe thead th {\n",
       "        text-align: right;\n",
       "    }\n",
       "</style>\n",
       "<table border=\"1\" class=\"dataframe\">\n",
       "  <thead>\n",
       "    <tr style=\"text-align: right;\">\n",
       "      <th></th>\n",
       "      <th>buying</th>\n",
       "      <th>maint</th>\n",
       "      <th>doors</th>\n",
       "      <th>persons</th>\n",
       "      <th>lug_boot</th>\n",
       "      <th>safety</th>\n",
       "      <th>clazz</th>\n",
       "    </tr>\n",
       "  </thead>\n",
       "  <tbody>\n",
       "    <tr>\n",
       "      <th>0</th>\n",
       "      <td>vhigh</td>\n",
       "      <td>vhigh</td>\n",
       "      <td>2</td>\n",
       "      <td>2</td>\n",
       "      <td>small</td>\n",
       "      <td>low</td>\n",
       "      <td>unacc</td>\n",
       "    </tr>\n",
       "    <tr>\n",
       "      <th>1</th>\n",
       "      <td>vhigh</td>\n",
       "      <td>vhigh</td>\n",
       "      <td>2</td>\n",
       "      <td>2</td>\n",
       "      <td>small</td>\n",
       "      <td>med</td>\n",
       "      <td>unacc</td>\n",
       "    </tr>\n",
       "    <tr>\n",
       "      <th>2</th>\n",
       "      <td>vhigh</td>\n",
       "      <td>vhigh</td>\n",
       "      <td>2</td>\n",
       "      <td>2</td>\n",
       "      <td>small</td>\n",
       "      <td>high</td>\n",
       "      <td>unacc</td>\n",
       "    </tr>\n",
       "    <tr>\n",
       "      <th>3</th>\n",
       "      <td>vhigh</td>\n",
       "      <td>vhigh</td>\n",
       "      <td>2</td>\n",
       "      <td>2</td>\n",
       "      <td>med</td>\n",
       "      <td>low</td>\n",
       "      <td>unacc</td>\n",
       "    </tr>\n",
       "    <tr>\n",
       "      <th>4</th>\n",
       "      <td>vhigh</td>\n",
       "      <td>vhigh</td>\n",
       "      <td>2</td>\n",
       "      <td>2</td>\n",
       "      <td>med</td>\n",
       "      <td>med</td>\n",
       "      <td>unacc</td>\n",
       "    </tr>\n",
       "    <tr>\n",
       "      <th>...</th>\n",
       "      <td>...</td>\n",
       "      <td>...</td>\n",
       "      <td>...</td>\n",
       "      <td>...</td>\n",
       "      <td>...</td>\n",
       "      <td>...</td>\n",
       "      <td>...</td>\n",
       "    </tr>\n",
       "    <tr>\n",
       "      <th>1723</th>\n",
       "      <td>low</td>\n",
       "      <td>low</td>\n",
       "      <td>5more</td>\n",
       "      <td>more</td>\n",
       "      <td>med</td>\n",
       "      <td>med</td>\n",
       "      <td>good</td>\n",
       "    </tr>\n",
       "    <tr>\n",
       "      <th>1724</th>\n",
       "      <td>low</td>\n",
       "      <td>low</td>\n",
       "      <td>5more</td>\n",
       "      <td>more</td>\n",
       "      <td>med</td>\n",
       "      <td>high</td>\n",
       "      <td>vgood</td>\n",
       "    </tr>\n",
       "    <tr>\n",
       "      <th>1725</th>\n",
       "      <td>low</td>\n",
       "      <td>low</td>\n",
       "      <td>5more</td>\n",
       "      <td>more</td>\n",
       "      <td>big</td>\n",
       "      <td>low</td>\n",
       "      <td>unacc</td>\n",
       "    </tr>\n",
       "    <tr>\n",
       "      <th>1726</th>\n",
       "      <td>low</td>\n",
       "      <td>low</td>\n",
       "      <td>5more</td>\n",
       "      <td>more</td>\n",
       "      <td>big</td>\n",
       "      <td>med</td>\n",
       "      <td>good</td>\n",
       "    </tr>\n",
       "    <tr>\n",
       "      <th>1727</th>\n",
       "      <td>low</td>\n",
       "      <td>low</td>\n",
       "      <td>5more</td>\n",
       "      <td>more</td>\n",
       "      <td>big</td>\n",
       "      <td>high</td>\n",
       "      <td>vgood</td>\n",
       "    </tr>\n",
       "  </tbody>\n",
       "</table>\n",
       "<p>1728 rows × 7 columns</p>\n",
       "</div>"
      ],
      "text/plain": [
       "     buying  maint  doors persons lug_boot safety  clazz\n",
       "0     vhigh  vhigh      2       2    small    low  unacc\n",
       "1     vhigh  vhigh      2       2    small    med  unacc\n",
       "2     vhigh  vhigh      2       2    small   high  unacc\n",
       "3     vhigh  vhigh      2       2      med    low  unacc\n",
       "4     vhigh  vhigh      2       2      med    med  unacc\n",
       "...     ...    ...    ...     ...      ...    ...    ...\n",
       "1723    low    low  5more    more      med    med   good\n",
       "1724    low    low  5more    more      med   high  vgood\n",
       "1725    low    low  5more    more      big    low  unacc\n",
       "1726    low    low  5more    more      big    med   good\n",
       "1727    low    low  5more    more      big   high  vgood\n",
       "\n",
       "[1728 rows x 7 columns]"
      ]
     },
     "execution_count": 3,
     "metadata": {},
     "output_type": "execute_result"
    }
   ],
   "source": [
    "cars = pd.read_csv(\"cars.csv\")\n",
    "cars.fillna('NA', inplace = True)\n",
    "cars"
   ]
  },
  {
   "cell_type": "code",
   "execution_count": 4,
   "id": "5cf7b1f3",
   "metadata": {},
   "outputs": [],
   "source": [
    "training_data, testing_data = train_test_split(cars, test_size = 0.3, random_state = 30)"
   ]
  },
  {
   "cell_type": "code",
   "execution_count": 5,
   "id": "481de948",
   "metadata": {},
   "outputs": [
    {
     "data": {
      "text/plain": [
       "array(['unacc', 'acc', 'vgood', 'good'], dtype=object)"
      ]
     },
     "execution_count": 5,
     "metadata": {},
     "output_type": "execute_result"
    }
   ],
   "source": [
    "#all classes\n",
    "training_data.clazz.unique()"
   ]
  },
  {
   "cell_type": "code",
   "execution_count": 21,
   "id": "85362bc8",
   "metadata": {},
   "outputs": [],
   "source": [
    "#count of each class\n",
    "unacc_count, acc_count, good_count, vgood_count = list(training_data.clazz.value_counts())\n",
    "counts = dict(training_data.clazz.value_counts())"
   ]
  },
  {
   "cell_type": "code",
   "execution_count": 7,
   "id": "4b48a1c9",
   "metadata": {},
   "outputs": [],
   "source": [
    "#prior probabilities\n",
    "total_count = unacc_count + acc_count + good_count + vgood_count\n",
    "p_unacc = unacc_count / total_count\n",
    "p_acc = acc_count / total_count\n",
    "p_good = good_count / total_count\n",
    "p_vgood = vgood_count / total_count"
   ]
  },
  {
   "cell_type": "code",
   "execution_count": 8,
   "id": "fc309b37",
   "metadata": {},
   "outputs": [
    {
     "name": "stdout",
     "output_type": "stream",
     "text": [
      "{'vhigh': {'unacc': 258, 'acc': 54, 'vgood': 0, 'good': 0}, 'med': {'unacc': 185, 'acc': 79, 'vgood': 16, 'good': 14}, 'low': {'unacc': 178, 'acc': 57, 'good': 34, 'vgood': 30}, 'high': {'unacc': 221, 'acc': 83, 'vgood': 0, 'good': 0}}\n"
     ]
    }
   ],
   "source": [
    "#count of buying\n",
    "buying = {}\n",
    "\n",
    "#print(training_data.buying.unique())\n",
    "buying[\"vhigh\"] = dict(training_data.where(training_data[\"buying\"] == \"vhigh\").clazz.value_counts())\n",
    "buying[\"med\"] = dict(training_data.where(training_data[\"buying\"] == \"med\").clazz.value_counts())\n",
    "buying[\"low\"] = dict(training_data.where(training_data[\"buying\"] == \"low\").clazz.value_counts())\n",
    "buying[\"high\"] = dict(training_data.where(training_data[\"buying\"] == \"high\").clazz.value_counts())\n",
    "\n",
    "buying[\"vhigh\"][\"vgood\"], buying[\"vhigh\"][\"good\"] = 0, 0\n",
    "buying[\"high\"][\"vgood\"], buying[\"high\"][\"good\"] = 0, 0\n",
    " \n",
    "print(buying)"
   ]
  },
  {
   "cell_type": "code",
   "execution_count": 9,
   "id": "336be269",
   "metadata": {},
   "outputs": [
    {
     "name": "stdout",
     "output_type": "stream",
     "text": [
      "{'vhigh': {'unacc': 250, 'acc': 43, 'vgood': 0, 'good': 0}, 'med': {'unacc': 190, 'acc': 78, 'good': 18, 'vgood': 16}, 'low': {'unacc': 196, 'acc': 70, 'good': 30, 'vgood': 19}, 'high': {'unacc': 206, 'acc': 82, 'vgood': 11, 'good': 0}}\n"
     ]
    }
   ],
   "source": [
    "#count of maint\n",
    "maint = {}\n",
    "\n",
    "#print(training_data.maint.unique())\n",
    "maint[\"vhigh\"] = dict(training_data.where(training_data[\"maint\"] == \"vhigh\").clazz.value_counts())\n",
    "maint[\"med\"] = dict(training_data.where(training_data[\"maint\"] == \"med\").clazz.value_counts())\n",
    "maint[\"low\"] = dict(training_data.where(training_data[\"maint\"] == \"low\").clazz.value_counts())\n",
    "maint[\"high\"] = dict(training_data.where(training_data[\"maint\"] == \"high\").clazz.value_counts())\n",
    "\n",
    "maint[\"vhigh\"][\"vgood\"], maint[\"vhigh\"][\"good\"] = 0, 0\n",
    "maint[\"high\"][\"good\"] = 0\n",
    "\n",
    "print(maint)"
   ]
  },
  {
   "cell_type": "code",
   "execution_count": 10,
   "id": "59e5201b",
   "metadata": {},
   "outputs": [
    {
     "name": "stdout",
     "output_type": "stream",
     "text": [
      "{'4': {'unacc': 192, 'acc': 77, 'vgood': 14, 'good': 12}, '5more': {'unacc': 213, 'acc': 67, 'vgood': 15, 'good': 13}, '2': {'unacc': 224, 'acc': 60, 'good': 10, 'vgood': 7}, '3': {'unacc': 213, 'acc': 69, 'good': 13, 'vgood': 10}}\n"
     ]
    }
   ],
   "source": [
    "#count of doors\n",
    "doors = {}\n",
    "\n",
    "#print(training_data.doors.unique())\n",
    "doors[\"4\"] = dict(training_data.where(training_data[\"doors\"] == \"4\").clazz.value_counts())\n",
    "doors[\"5more\"] = dict(training_data.where(training_data[\"doors\"] == \"5more\").clazz.value_counts())\n",
    "doors[\"2\"] = dict(training_data.where(training_data[\"doors\"] == \"2\").clazz.value_counts())\n",
    "doors[\"3\"] = dict(training_data.where(training_data[\"doors\"] == \"3\").clazz.value_counts())\n",
    "\n",
    "print(doors)"
   ]
  },
  {
   "cell_type": "code",
   "execution_count": 11,
   "id": "e067610a",
   "metadata": {},
   "outputs": [
    {
     "name": "stdout",
     "output_type": "stream",
     "text": [
      "{'2': {'unacc': 395, 'acc': 0, 'vgood': 0, 'good': 0}, 'more': {'unacc': 215, 'acc': 130, 'good': 25, 'vgood': 24}, '4': {'unacc': 232, 'acc': 143, 'good': 23, 'vgood': 22}}\n"
     ]
    }
   ],
   "source": [
    "#count of persons\n",
    "persons = {}\n",
    "\n",
    "#print(training_data.persons.unique())\n",
    "persons[\"2\"] = dict(training_data.where(training_data[\"persons\"] == \"2\").clazz.value_counts())\n",
    "persons[\"more\"] = dict(training_data.where(training_data[\"persons\"] == \"more\").clazz.value_counts())\n",
    "persons[\"4\"] = dict(training_data.where(training_data[\"persons\"] == \"4\").clazz.value_counts())\n",
    "\n",
    "persons[\"2\"][\"acc\"], persons[\"2\"][\"vgood\"], persons[\"2\"][\"good\"] = 0, 0, 0\n",
    "\n",
    "print(persons)"
   ]
  },
  {
   "cell_type": "code",
   "execution_count": 12,
   "id": "3bf73809",
   "metadata": {},
   "outputs": [
    {
     "name": "stdout",
     "output_type": "stream",
     "text": [
      "{'small': {'unacc': 316, 'acc': 70, 'good': 13, 'vgood': 0}, 'med': {'unacc': 259, 'acc': 94, 'good': 18, 'vgood': 15}, 'big': {'unacc': 267, 'acc': 109, 'vgood': 31, 'good': 17}}\n"
     ]
    }
   ],
   "source": [
    "#count of lug_boot\n",
    "lug_boot = {}\n",
    "\n",
    "#print(training_data.lug_boot.unique())\n",
    "\n",
    "lug_boot[\"small\"] = dict(training_data.where(training_data[\"lug_boot\"] == \"small\").clazz.value_counts())\n",
    "lug_boot[\"med\"] = dict(training_data.where(training_data[\"lug_boot\"] == \"med\").clazz.value_counts())\n",
    "lug_boot[\"big\"] = dict(training_data.where(training_data[\"lug_boot\"] == \"big\").clazz.value_counts())\n",
    "\n",
    "lug_boot[\"small\"][\"vgood\"] = 0\n",
    "\n",
    "print(lug_boot)"
   ]
  },
  {
   "cell_type": "code",
   "execution_count": 13,
   "id": "0526b820",
   "metadata": {},
   "outputs": [
    {
     "name": "stdout",
     "output_type": "stream",
     "text": [
      "{'med': {'unacc': 238, 'acc': 124, 'good': 30, 'vgood': 0}, 'low': {'unacc': 416, 'acc': 0, 'vgood': 0, 'good': 0}, 'high': {'unacc': 188, 'acc': 149, 'vgood': 46, 'good': 18}}\n"
     ]
    }
   ],
   "source": [
    "#count of safety\n",
    "safety = {}\n",
    "\n",
    "#print(training_data.safety.unique())\n",
    "safety[\"med\"] = dict(training_data.where(training_data[\"safety\"] == \"med\").clazz.value_counts())\n",
    "safety[\"low\"] = dict(training_data.where(training_data[\"safety\"] == \"low\").clazz.value_counts())\n",
    "safety[\"high\"] = dict(training_data.where(training_data[\"safety\"] == \"high\").clazz.value_counts())\n",
    "\n",
    "safety[\"med\"][\"vgood\"], safety[\"low\"][\"acc\"] = 0, 0\n",
    "safety[\"low\"][\"vgood\"], safety[\"low\"][\"good\"] = 0, 0\n",
    "\n",
    "print(safety)"
   ]
  },
  {
   "cell_type": "code",
   "execution_count": 27,
   "id": "a06bd14c",
   "metadata": {},
   "outputs": [
    {
     "name": "stdout",
     "output_type": "stream",
     "text": [
      "Accuracy of the classifier is 80.92485549132948 %\n"
     ]
    }
   ],
   "source": [
    "correct, wrong = 0, 0\n",
    "for index, row in testing_data.iterrows():\n",
    "    unacc = p_unacc * ((buying[row[0]][\"unacc\"] + 1) / (counts[\"unacc\"] + len(buying))) * ((maint[row[1]][\"unacc\"] + 1) / (counts[\"unacc\"] + len(maint))) * ((doors[row[2]][\"unacc\"] + 1) / (counts[\"unacc\"] + len(doors))) * ((persons[row[3]][\"unacc\"] + 1) / (counts[\"unacc\"] + len(persons))) * ((lug_boot[row[4]][\"unacc\"] + 1) / (counts[\"unacc\"] + len(lug_boot))) * ((safety[row[5]][\"unacc\"] + 1) / (counts[\"unacc\"] + len(safety)))\n",
    "    acc = p_acc * ((buying[row[0]][\"acc\"] + 1) / (counts[\"acc\"] + len(buying))) * ((maint[row[1]][\"acc\"] + 1) / (counts[\"acc\"] + len(maint))) * ((doors[row[2]][\"acc\"] + 1) / (counts[\"acc\"] + len(doors))) * ((persons[row[3]][\"acc\"] + 1) / (counts[\"acc\"] + len(persons))) * ((lug_boot[row[4]][\"acc\"] + 1) / (counts[\"acc\"] + len(lug_boot))) * ((safety[row[5]][\"acc\"] + 1) / (counts[\"acc\"] + len(safety)))\n",
    "    good = p_good * ((buying[row[0]][\"good\"] + 1) / (counts[\"good\"] + len(buying))) * ((maint[row[1]][\"good\"] + 1) / (counts[\"good\"] + len(maint))) * ((doors[row[2]][\"good\"] + 1) / (counts[\"good\"] + len(doors))) * ((persons[row[3]][\"good\"] + 1) / (counts[\"good\"] + len(persons))) * ((lug_boot[row[4]][\"good\"] + 1) / (counts[\"good\"] + len(lug_boot))) * ((safety[row[5]][\"good\"] + 1) / (counts[\"good\"] + len(safety)))\n",
    "    vgood = p_vgood * ((buying[row[0]][\"vgood\"] + 1) / (counts[\"vgood\"] + len(buying))) * ((maint[row[1]][\"vgood\"] + 1) / (counts[\"vgood\"] + len(maint))) * ((doors[row[2]][\"vgood\"] + 1) / (counts[\"vgood\"] + len(doors))) * ((persons[row[3]][\"vgood\"] + 1) / (counts[\"vgood\"] + len(persons))) * ((lug_boot[row[4]][\"vgood\"] + 1) / (counts[\"vgood\"] + len(lug_boot))) * ((safety[row[5]][\"vgood\"] + 1) / (counts[\"vgood\"] + len(safety)))\n",
    "    \n",
    "    lis = [unacc, acc, good, vgood]\n",
    "    if unacc == max(lis):\n",
    "        if row[6] == \"unacc\":\n",
    "            correct += 1\n",
    "        else:\n",
    "            wrong += 1\n",
    "    elif acc == max(lis):\n",
    "        if row[6] == \"acc\":\n",
    "            correct += 1\n",
    "        else:\n",
    "            wrong += 1\n",
    "    elif good == max(lis):\n",
    "        if row[6] == \"good\":\n",
    "            correct += 1\n",
    "        else:\n",
    "            wrong += 1\n",
    "    else:\n",
    "        if row[6] == \"vgood\":\n",
    "            correct += 1\n",
    "        else:\n",
    "            wrong += 1\n",
    "            \n",
    "accuracy = (correct / (correct + wrong)) * 100\n",
    "print(\"Accuracy of the classifier is\", accuracy, \"%\")"
   ]
  }
 ],
 "metadata": {
  "kernelspec": {
   "display_name": "Python 3",
   "language": "python",
   "name": "python3"
  },
  "language_info": {
   "codemirror_mode": {
    "name": "ipython",
    "version": 3
   },
   "file_extension": ".py",
   "mimetype": "text/x-python",
   "name": "python",
   "nbconvert_exporter": "python",
   "pygments_lexer": "ipython3",
   "version": "3.8.8"
  }
 },
 "nbformat": 4,
 "nbformat_minor": 5
}
